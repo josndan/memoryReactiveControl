{
 "cells": [
  {
   "cell_type": "code",
   "id": "initial_id",
   "metadata": {
    "collapsed": true,
    "ExecuteTime": {
     "end_time": "2024-08-17T12:59:12.243155Z",
     "start_time": "2024-08-17T12:59:12.238617Z"
    }
   },
   "source": [
    "import torch\n",
    "\n",
    "from world.worldmaker import WorldMaker\n",
    "from networks.dqn import DQN\n",
    "from training.dqntrainer import DQNTrainer"
   ],
   "outputs": [],
   "execution_count": 3
  },
  {
   "metadata": {
    "ExecuteTime": {
     "end_time": "2024-08-17T12:59:13.377374Z",
     "start_time": "2024-08-17T12:59:13.360350Z"
    }
   },
   "cell_type": "code",
   "source": [
    "world = WorldMaker.make_env('world/world.yaml')\n",
    "world.reset()\n",
    "num_actions = world.outer_env.action_space.num_actions\n",
    "state_shape = torch.cat([torch.flatten(torch.tensor(s)) for s in world.state.values()]).shape[0]"
   ],
   "id": "5ed1252737726649",
   "outputs": [
    {
     "name": "stdout",
     "output_type": "stream",
     "text": [
      "Loading using YAML in world/world.yaml\n"
     ]
    }
   ],
   "execution_count": 4
  },
  {
   "metadata": {
    "ExecuteTime": {
     "end_time": "2024-08-17T13:23:32.999543Z",
     "start_time": "2024-08-17T13:23:32.995216Z"
    }
   },
   "cell_type": "code",
   "source": "[1, 2, 3, 4, 5, 6, 7][:1]",
   "id": "7a68ff2604501787",
   "outputs": [
    {
     "data": {
      "text/plain": [
       "[1]"
      ]
     },
     "execution_count": 16,
     "metadata": {},
     "output_type": "execute_result"
    }
   ],
   "execution_count": 16
  },
  {
   "metadata": {
    "ExecuteTime": {
     "end_time": "2024-08-17T13:43:16.234422Z",
     "start_time": "2024-08-17T13:43:16.228326Z"
    }
   },
   "cell_type": "code",
   "source": "x = torch.zeros([1, 6]).gather(1, torch.tensor([[1, 2, 3, 4, 5]]))",
   "id": "53b227333410134e",
   "outputs": [],
   "execution_count": 22
  },
  {
   "metadata": {
    "ExecuteTime": {
     "end_time": "2024-08-17T13:46:08.976046Z",
     "start_time": "2024-08-17T13:46:08.971129Z"
    }
   },
   "cell_type": "code",
   "source": "x.to(torch.int64).dtype",
   "id": "626ee5e165217209",
   "outputs": [
    {
     "data": {
      "text/plain": [
       "torch.int64"
      ]
     },
     "execution_count": 25,
     "metadata": {},
     "output_type": "execute_result"
    }
   ],
   "execution_count": 25
  },
  {
   "metadata": {},
   "cell_type": "markdown",
   "source": "",
   "id": "6126354904e36c04"
  },
  {
   "metadata": {
    "ExecuteTime": {
     "end_time": "2024-08-17T12:28:32.855043Z",
     "start_time": "2024-08-17T12:28:32.847173Z"
    }
   },
   "cell_type": "code",
   "source": "world.outer_env.inner_env.state_space.grid_shape",
   "id": "c091c6270f3837e7",
   "outputs": [
    {
     "data": {
      "text/plain": [
       "Shape(height=13, width=13)"
      ]
     },
     "execution_count": 66,
     "metadata": {},
     "output_type": "execute_result"
    }
   ],
   "execution_count": 66
  },
  {
   "metadata": {
    "ExecuteTime": {
     "end_time": "2024-08-17T12:20:19.942560Z",
     "start_time": "2024-08-17T12:20:19.937192Z"
    }
   },
   "cell_type": "code",
   "source": "world.state['agent']",
   "id": "7d38e377f85eecf0",
   "outputs": [
    {
     "data": {
      "text/plain": [
       "array([0.5       , 0.83333333, 0.        , 0.        , 1.        ,\n",
       "       0.        ])"
      ]
     },
     "execution_count": 54,
     "metadata": {},
     "output_type": "execute_result"
    }
   ],
   "execution_count": 54
  },
  {
   "metadata": {
    "ExecuteTime": {
     "end_time": "2024-08-17T12:22:05.464700Z",
     "start_time": "2024-08-17T12:22:05.456724Z"
    }
   },
   "cell_type": "code",
   "source": "world.step(0)",
   "id": "694bc3baa80c787e",
   "outputs": [
    {
     "data": {
      "text/plain": [
       "({'grid': array([[[3, 0, 0],\n",
       "          [2, 0, 0],\n",
       "          [2, 0, 0],\n",
       "          [1, 0, 0],\n",
       "          [1, 0, 0],\n",
       "          [1, 0, 0],\n",
       "          [2, 0, 0]],\n",
       "  \n",
       "         [[3, 0, 0],\n",
       "          [3, 0, 0],\n",
       "          [2, 0, 0],\n",
       "          [3, 0, 0],\n",
       "          [3, 0, 0],\n",
       "          [3, 0, 0],\n",
       "          [2, 0, 0]],\n",
       "  \n",
       "         [[3, 0, 0],\n",
       "          [2, 0, 0],\n",
       "          [2, 0, 0],\n",
       "          [2, 0, 0],\n",
       "          [2, 0, 0],\n",
       "          [2, 0, 0],\n",
       "          [2, 0, 0]],\n",
       "  \n",
       "         [[3, 0, 0],\n",
       "          [2, 0, 0],\n",
       "          [2, 0, 0],\n",
       "          [2, 0, 0],\n",
       "          [3, 0, 0],\n",
       "          [2, 0, 0],\n",
       "          [2, 0, 0]],\n",
       "  \n",
       "         [[3, 0, 0],\n",
       "          [2, 0, 0],\n",
       "          [2, 0, 0],\n",
       "          [2, 0, 0],\n",
       "          [3, 0, 0],\n",
       "          [2, 0, 0],\n",
       "          [2, 0, 0]],\n",
       "  \n",
       "         [[3, 0, 0],\n",
       "          [3, 0, 0],\n",
       "          [3, 0, 0],\n",
       "          [2, 0, 0],\n",
       "          [3, 0, 0],\n",
       "          [2, 0, 0],\n",
       "          [3, 0, 0]],\n",
       "  \n",
       "         [[3, 0, 0],\n",
       "          [2, 0, 0],\n",
       "          [2, 0, 0],\n",
       "          [2, 0, 0],\n",
       "          [2, 0, 0],\n",
       "          [2, 0, 0],\n",
       "          [2, 0, 0]]]),\n",
       "  'agent_id_grid': array([[0, 0, 0, 0, 0, 0, 0],\n",
       "         [0, 0, 0, 0, 0, 0, 0],\n",
       "         [0, 0, 0, 0, 0, 0, 0],\n",
       "         [0, 0, 0, 0, 0, 0, 0],\n",
       "         [0, 0, 0, 0, 0, 0, 0],\n",
       "         [0, 0, 0, 0, 0, 0, 0],\n",
       "         [0, 0, 0, 1, 0, 0, 0]]),\n",
       "  'item': array([0, 0, 0])},\n",
       " -0.05,\n",
       " False,\n",
       " {})"
      ]
     },
     "execution_count": 60,
     "metadata": {},
     "output_type": "execute_result"
    }
   ],
   "execution_count": 60
  },
  {
   "metadata": {
    "ExecuteTime": {
     "end_time": "2024-08-17T12:26:14.892196Z",
     "start_time": "2024-08-17T12:26:14.882003Z"
    }
   },
   "cell_type": "code",
   "source": "world.state.values()",
   "id": "72646e6ab5d1a5b7",
   "outputs": [
    {
     "data": {
      "text/plain": [
       "dict_values([array([[[ 3,  0,  0],\n",
       "        [ 3,  0,  0],\n",
       "        [ 3,  0,  0],\n",
       "        [ 3,  0,  0],\n",
       "        [ 3,  0,  0],\n",
       "        [ 3,  0,  0],\n",
       "        [ 3,  0,  0],\n",
       "        [ 3,  0,  0],\n",
       "        [ 3,  0,  0],\n",
       "        [ 3,  0,  0],\n",
       "        [ 3,  0,  0],\n",
       "        [ 3,  0,  0],\n",
       "        [ 3,  0,  0]],\n",
       "\n",
       "       [[ 3,  0,  0],\n",
       "        [ 2,  0,  0],\n",
       "        [ 2,  0,  0],\n",
       "        [ 2,  0,  0],\n",
       "        [ 3,  0,  0],\n",
       "        [ 2,  0,  0],\n",
       "        [ 4,  0,  4],\n",
       "        [ 2,  0,  0],\n",
       "        [ 3,  0,  0],\n",
       "        [ 2,  0,  0],\n",
       "        [ 2,  0,  0],\n",
       "        [ 2,  0,  0],\n",
       "        [ 3,  0,  0]],\n",
       "\n",
       "       [[ 3,  0,  0],\n",
       "        [ 2,  0,  0],\n",
       "        [10,  0,  4],\n",
       "        [ 2,  0,  0],\n",
       "        [ 3,  0,  0],\n",
       "        [ 2,  0,  0],\n",
       "        [ 2,  0,  0],\n",
       "        [ 2,  0,  0],\n",
       "        [ 2,  0,  0],\n",
       "        [ 2,  0,  0],\n",
       "        [ 2,  0,  0],\n",
       "        [ 2,  0,  0],\n",
       "        [ 3,  0,  0]],\n",
       "\n",
       "       [[ 3,  0,  0],\n",
       "        [ 2,  0,  0],\n",
       "        [ 2,  0,  0],\n",
       "        [ 2,  0,  0],\n",
       "        [ 2,  0,  0],\n",
       "        [ 2,  0,  0],\n",
       "        [ 2,  0,  0],\n",
       "        [ 2,  0,  0],\n",
       "        [ 3,  0,  0],\n",
       "        [ 2,  0,  0],\n",
       "        [ 2,  0,  0],\n",
       "        [ 2,  0,  0],\n",
       "        [ 3,  0,  0]],\n",
       "\n",
       "       [[ 3,  0,  0],\n",
       "        [ 2,  0,  0],\n",
       "        [ 3,  0,  0],\n",
       "        [ 3,  0,  0],\n",
       "        [ 3,  0,  0],\n",
       "        [ 3,  0,  0],\n",
       "        [ 2,  0,  0],\n",
       "        [ 3,  0,  0],\n",
       "        [ 3,  0,  0],\n",
       "        [ 3,  0,  0],\n",
       "        [ 2,  0,  0],\n",
       "        [ 3,  0,  0],\n",
       "        [ 3,  0,  0]],\n",
       "\n",
       "       [[ 3,  0,  0],\n",
       "        [ 2,  0,  0],\n",
       "        [ 2,  0,  0],\n",
       "        [ 2,  0,  0],\n",
       "        [ 3,  0,  0],\n",
       "        [ 2,  0,  0],\n",
       "        [ 2,  0,  0],\n",
       "        [ 2,  0,  0],\n",
       "        [ 3,  0,  0],\n",
       "        [ 2,  0,  0],\n",
       "        [ 2,  0,  0],\n",
       "        [ 2,  0,  0],\n",
       "        [ 3,  0,  0]],\n",
       "\n",
       "       [[ 3,  0,  0],\n",
       "        [ 2,  0,  0],\n",
       "        [ 2,  0,  0],\n",
       "        [ 2,  0,  0],\n",
       "        [ 2,  0,  0],\n",
       "        [ 2,  0,  0],\n",
       "        [ 2,  0,  0],\n",
       "        [ 2,  0,  0],\n",
       "        [ 3,  0,  0],\n",
       "        [ 2,  0,  0],\n",
       "        [ 2,  0,  0],\n",
       "        [ 2,  0,  0],\n",
       "        [ 3,  0,  0]],\n",
       "\n",
       "       [[ 3,  0,  0],\n",
       "        [ 2,  0,  0],\n",
       "        [ 2,  0,  0],\n",
       "        [ 2,  0,  0],\n",
       "        [ 3,  0,  0],\n",
       "        [ 2,  0,  0],\n",
       "        [ 2,  0,  0],\n",
       "        [ 2,  0,  0],\n",
       "        [ 2,  0,  0],\n",
       "        [ 2,  0,  0],\n",
       "        [ 2,  0,  0],\n",
       "        [ 2,  0,  0],\n",
       "        [ 3,  0,  0]],\n",
       "\n",
       "       [[ 3,  0,  0],\n",
       "        [ 3,  0,  0],\n",
       "        [ 3,  0,  0],\n",
       "        [ 2,  0,  0],\n",
       "        [ 3,  0,  0],\n",
       "        [ 2,  0,  0],\n",
       "        [ 3,  0,  0],\n",
       "        [ 3,  0,  0],\n",
       "        [ 3,  0,  0],\n",
       "        [ 2,  0,  0],\n",
       "        [ 3,  0,  0],\n",
       "        [ 3,  0,  0],\n",
       "        [ 3,  0,  0]],\n",
       "\n",
       "       [[ 3,  0,  0],\n",
       "        [ 2,  0,  0],\n",
       "        [ 4,  0,  2],\n",
       "        [ 2,  0,  0],\n",
       "        [ 3,  0,  0],\n",
       "        [ 2,  0,  0],\n",
       "        [ 2,  0,  0],\n",
       "        [ 2,  0,  0],\n",
       "        [ 2,  0,  0],\n",
       "        [ 2,  0,  0],\n",
       "        [ 2,  0,  0],\n",
       "        [ 2,  0,  0],\n",
       "        [ 3,  0,  0]],\n",
       "\n",
       "       [[ 3,  0,  0],\n",
       "        [ 2,  0,  0],\n",
       "        [ 2,  0,  0],\n",
       "        [ 2,  0,  0],\n",
       "        [ 2,  0,  0],\n",
       "        [ 2,  0,  0],\n",
       "        [ 2,  0,  0],\n",
       "        [ 2,  0,  0],\n",
       "        [ 3,  0,  0],\n",
       "        [ 2,  0,  0],\n",
       "        [ 2,  0,  0],\n",
       "        [ 2,  0,  0],\n",
       "        [ 3,  0,  0]],\n",
       "\n",
       "       [[ 3,  0,  0],\n",
       "        [ 2,  0,  0],\n",
       "        [ 2,  0,  0],\n",
       "        [ 2,  0,  0],\n",
       "        [ 3,  0,  0],\n",
       "        [ 2,  0,  0],\n",
       "        [ 2,  0,  0],\n",
       "        [ 2,  0,  0],\n",
       "        [ 3,  0,  0],\n",
       "        [ 2,  0,  0],\n",
       "        [ 2,  0,  0],\n",
       "        [ 2,  0,  0],\n",
       "        [ 3,  0,  0]],\n",
       "\n",
       "       [[ 3,  0,  0],\n",
       "        [ 3,  0,  0],\n",
       "        [ 3,  0,  0],\n",
       "        [ 3,  0,  0],\n",
       "        [ 3,  0,  0],\n",
       "        [ 3,  0,  0],\n",
       "        [ 3,  0,  0],\n",
       "        [ 3,  0,  0],\n",
       "        [ 3,  0,  0],\n",
       "        [ 3,  0,  0],\n",
       "        [ 3,  0,  0],\n",
       "        [ 3,  0,  0],\n",
       "        [ 3,  0,  0]]]), array([[0, 0, 0, 0, 0, 0, 0, 0, 0, 0, 0, 0, 0],\n",
       "       [0, 0, 0, 0, 0, 0, 0, 0, 0, 0, 0, 0, 0],\n",
       "       [0, 0, 0, 0, 0, 0, 0, 0, 0, 0, 0, 0, 0],\n",
       "       [0, 0, 0, 0, 0, 0, 0, 0, 0, 0, 0, 0, 0],\n",
       "       [0, 0, 0, 0, 0, 0, 0, 0, 0, 0, 0, 0, 0],\n",
       "       [0, 0, 0, 0, 0, 0, 0, 0, 0, 0, 0, 0, 0],\n",
       "       [0, 0, 0, 0, 0, 0, 0, 0, 0, 0, 0, 0, 0],\n",
       "       [0, 0, 0, 0, 0, 0, 0, 0, 0, 0, 0, 0, 0],\n",
       "       [0, 0, 0, 0, 0, 0, 0, 0, 0, 0, 0, 0, 0],\n",
       "       [0, 0, 0, 0, 0, 0, 0, 0, 0, 1, 0, 0, 0],\n",
       "       [0, 0, 0, 0, 0, 0, 0, 0, 0, 0, 0, 0, 0],\n",
       "       [0, 0, 0, 0, 0, 0, 0, 0, 0, 0, 0, 0, 0],\n",
       "       [0, 0, 0, 0, 0, 0, 0, 0, 0, 0, 0, 0, 0]]), array([0.5, 0.5, 0. , 0. , 1. , 0. ]), array([0, 0, 0])])"
      ]
     },
     "execution_count": 65,
     "metadata": {},
     "output_type": "execute_result"
    }
   ],
   "execution_count": 65
  },
  {
   "metadata": {
    "ExecuteTime": {
     "end_time": "2024-08-17T12:24:07.009230Z",
     "start_time": "2024-08-17T12:24:07.001781Z"
    }
   },
   "cell_type": "code",
   "source": "world.state['agent']",
   "id": "872427b688fd8250",
   "outputs": [
    {
     "data": {
      "text/plain": [
       "array([0.5, 0.5, 0. , 0. , 1. , 0. ])"
      ]
     },
     "execution_count": 62,
     "metadata": {},
     "output_type": "execute_result"
    }
   ],
   "execution_count": 62
  },
  {
   "metadata": {
    "ExecuteTime": {
     "end_time": "2024-08-17T12:02:06.073660Z",
     "start_time": "2024-08-17T12:02:06.068858Z"
    }
   },
   "cell_type": "code",
   "source": "world.outer_env.state_representation.space",
   "id": "bba8f2ef403dae58",
   "outputs": [
    {
     "data": {
      "text/plain": [
       "{'grid': <gym_gridverse.representations.spaces.Space at 0x13f945c60>,\n",
       " 'agent_id_grid': <gym_gridverse.representations.spaces.Space at 0x13f945900>,\n",
       " 'agent': <gym_gridverse.representations.spaces.Space at 0x13f80dcc0>,\n",
       " 'item': <gym_gridverse.representations.spaces.Space at 0x13f80c970>}"
      ]
     },
     "execution_count": 32,
     "metadata": {},
     "output_type": "execute_result"
    }
   ],
   "execution_count": 32
  },
  {
   "metadata": {
    "ExecuteTime": {
     "end_time": "2024-08-17T12:01:52.531161Z",
     "start_time": "2024-08-17T12:01:52.525140Z"
    }
   },
   "cell_type": "code",
   "source": "world.outer_env.observation_representation.space",
   "id": "eb2423c617359c06",
   "outputs": [
    {
     "data": {
      "text/plain": [
       "{'grid': <gym_gridverse.representations.spaces.Space at 0x13a642bf0>,\n",
       " 'agent_id_grid': <gym_gridverse.representations.spaces.Space at 0x13f92dd80>,\n",
       " 'item': <gym_gridverse.representations.spaces.Space at 0x13f92d480>}"
      ]
     },
     "execution_count": 31,
     "metadata": {},
     "output_type": "execute_result"
    }
   ],
   "execution_count": 31
  },
  {
   "metadata": {
    "ExecuteTime": {
     "end_time": "2024-08-17T12:03:09.015529Z",
     "start_time": "2024-08-17T12:03:09.009421Z"
    }
   },
   "cell_type": "code",
   "source": "world.outer_env.action_space.num_actions",
   "id": "56426df731c25c17",
   "outputs": [
    {
     "data": {
      "text/plain": [
       "6"
      ]
     },
     "execution_count": 34,
     "metadata": {},
     "output_type": "execute_result"
    }
   ],
   "execution_count": 34
  },
  {
   "metadata": {},
   "cell_type": "code",
   "outputs": [],
   "execution_count": null,
   "source": "",
   "id": "93a2edd5ffbf40cc"
  }
 ],
 "metadata": {
  "kernelspec": {
   "display_name": "Python 3",
   "language": "python",
   "name": "python3"
  },
  "language_info": {
   "codemirror_mode": {
    "name": "ipython",
    "version": 2
   },
   "file_extension": ".py",
   "mimetype": "text/x-python",
   "name": "python",
   "nbconvert_exporter": "python",
   "pygments_lexer": "ipython2",
   "version": "2.7.6"
  }
 },
 "nbformat": 4,
 "nbformat_minor": 5
}
