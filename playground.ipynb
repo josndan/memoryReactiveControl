{
 "cells": [
  {
   "metadata": {
    "ExecuteTime": {
     "end_time": "2024-08-27T13:22:48.359731Z",
     "start_time": "2024-08-27T13:22:48.049796Z"
    }
   },
   "cell_type": "code",
   "source": "from world.worldmaker import WorldMaker",
   "id": "78add2af9010fb25",
   "outputs": [],
   "execution_count": 1
  },
  {
   "cell_type": "code",
   "id": "initial_id",
   "metadata": {
    "collapsed": true,
    "ExecuteTime": {
     "end_time": "2024-08-27T13:22:48.422809Z",
     "start_time": "2024-08-27T13:22:48.398966Z"
    }
   },
   "source": "world = WorldMaker.make_env('world/world.yaml')",
   "outputs": [
    {
     "name": "stdout",
     "output_type": "stream",
     "text": [
      "Loading using YAML in world/world.yaml\n"
     ]
    }
   ],
   "execution_count": 2
  },
  {
   "metadata": {
    "ExecuteTime": {
     "end_time": "2024-08-27T13:22:48.779551Z",
     "start_time": "2024-08-27T13:22:48.755708Z"
    }
   },
   "cell_type": "code",
   "source": "world.reset()",
   "id": "87bb710c88c1d045",
   "outputs": [
    {
     "data": {
      "text/plain": [
       "({'grid': array([[[3, 0, 0],\n",
       "          [3, 0, 0],\n",
       "          [3, 0, 0],\n",
       "          [3, 0, 0],\n",
       "          [3, 0, 0],\n",
       "          [3, 0, 0],\n",
       "          [1, 0, 0]],\n",
       "  \n",
       "         [[2, 0, 0],\n",
       "          [2, 0, 0],\n",
       "          [2, 0, 0],\n",
       "          [2, 0, 0],\n",
       "          [4, 0, 0],\n",
       "          [3, 0, 0],\n",
       "          [1, 0, 0]],\n",
       "  \n",
       "         [[2, 0, 0],\n",
       "          [2, 0, 0],\n",
       "          [2, 0, 0],\n",
       "          [2, 0, 0],\n",
       "          [2, 0, 0],\n",
       "          [3, 0, 0],\n",
       "          [1, 0, 0]],\n",
       "  \n",
       "         [[2, 0, 0],\n",
       "          [2, 0, 0],\n",
       "          [2, 0, 0],\n",
       "          [2, 0, 0],\n",
       "          [2, 0, 0],\n",
       "          [3, 0, 0],\n",
       "          [1, 0, 0]],\n",
       "  \n",
       "         [[2, 0, 0],\n",
       "          [2, 0, 0],\n",
       "          [2, 0, 0],\n",
       "          [2, 0, 0],\n",
       "          [2, 0, 0],\n",
       "          [3, 0, 0],\n",
       "          [1, 0, 0]],\n",
       "  \n",
       "         [[2, 0, 0],\n",
       "          [2, 0, 0],\n",
       "          [2, 0, 0],\n",
       "          [2, 0, 0],\n",
       "          [2, 0, 0],\n",
       "          [3, 0, 0],\n",
       "          [1, 0, 0]],\n",
       "  \n",
       "         [[2, 0, 0],\n",
       "          [2, 0, 0],\n",
       "          [2, 0, 0],\n",
       "          [2, 0, 0],\n",
       "          [2, 0, 0],\n",
       "          [3, 0, 0],\n",
       "          [1, 0, 0]]]),\n",
       "  'agent_id_grid': array([[0, 0, 0, 0, 0, 0, 0],\n",
       "         [0, 0, 0, 0, 0, 0, 0],\n",
       "         [0, 0, 0, 0, 0, 0, 0],\n",
       "         [0, 0, 0, 0, 0, 0, 0],\n",
       "         [0, 0, 0, 0, 0, 0, 0],\n",
       "         [0, 0, 0, 0, 0, 0, 0],\n",
       "         [0, 0, 0, 1, 0, 0, 0]]),\n",
       "  'item': array([0, 0, 0])},\n",
       " {})"
      ]
     },
     "execution_count": 3,
     "metadata": {},
     "output_type": "execute_result"
    }
   ],
   "execution_count": 3
  },
  {
   "metadata": {
    "ExecuteTime": {
     "end_time": "2024-08-27T13:33:40.041756Z",
     "start_time": "2024-08-27T13:33:40.037465Z"
    }
   },
   "cell_type": "code",
   "source": "world.observation_space.spaces",
   "id": "2e0434f94438112e",
   "outputs": [
    {
     "data": {
      "text/plain": [
       "OrderedDict([('agent_id_grid', Box(0, 1, (7, 7), int32)),\n",
       "             ('grid',\n",
       "              Box(0, [[[4 1 0]\n",
       "                [4 1 0]\n",
       "                [4 1 0]\n",
       "                [4 1 0]\n",
       "                [4 1 0]\n",
       "                [4 1 0]\n",
       "                [4 1 0]]\n",
       "              \n",
       "               [[4 1 0]\n",
       "                [4 1 0]\n",
       "                [4 1 0]\n",
       "                [4 1 0]\n",
       "                [4 1 0]\n",
       "                [4 1 0]\n",
       "                [4 1 0]]\n",
       "              \n",
       "               [[4 1 0]\n",
       "                [4 1 0]\n",
       "                [4 1 0]\n",
       "                [4 1 0]\n",
       "                [4 1 0]\n",
       "                [4 1 0]\n",
       "                [4 1 0]]\n",
       "              \n",
       "               [[4 1 0]\n",
       "                [4 1 0]\n",
       "                [4 1 0]\n",
       "                [4 1 0]\n",
       "                [4 1 0]\n",
       "                [4 1 0]\n",
       "                [4 1 0]]\n",
       "              \n",
       "               [[4 1 0]\n",
       "                [4 1 0]\n",
       "                [4 1 0]\n",
       "                [4 1 0]\n",
       "                [4 1 0]\n",
       "                [4 1 0]\n",
       "                [4 1 0]]\n",
       "              \n",
       "               [[4 1 0]\n",
       "                [4 1 0]\n",
       "                [4 1 0]\n",
       "                [4 1 0]\n",
       "                [4 1 0]\n",
       "                [4 1 0]\n",
       "                [4 1 0]]\n",
       "              \n",
       "               [[4 1 0]\n",
       "                [4 1 0]\n",
       "                [4 1 0]\n",
       "                [4 1 0]\n",
       "                [4 1 0]\n",
       "                [4 1 0]\n",
       "                [4 1 0]]], (7, 7, 3), int32)),\n",
       "             ('item', Box(0, [4 1 0], (3,), int32))])"
      ]
     },
     "execution_count": 8,
     "metadata": {},
     "output_type": "execute_result"
    }
   ],
   "execution_count": 8
  },
  {
   "metadata": {},
   "cell_type": "code",
   "outputs": [],
   "execution_count": null,
   "source": "",
   "id": "89ac78954dc972f9"
  }
 ],
 "metadata": {
  "kernelspec": {
   "display_name": "Python 3",
   "language": "python",
   "name": "python3"
  },
  "language_info": {
   "codemirror_mode": {
    "name": "ipython",
    "version": 2
   },
   "file_extension": ".py",
   "mimetype": "text/x-python",
   "name": "python",
   "nbconvert_exporter": "python",
   "pygments_lexer": "ipython2",
   "version": "2.7.6"
  }
 },
 "nbformat": 4,
 "nbformat_minor": 5
}
